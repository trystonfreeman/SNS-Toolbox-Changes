{
 "cells": [
  {
   "cell_type": "code",
   "execution_count": 1,
   "id": "089c02ba-ef9b-48a2-88d4-425f8a842db4",
   "metadata": {},
   "outputs": [],
   "source": [
    "# Add the library to the path\n",
    "# If jupyter cannot find SNS-Toolbox\n",
    "import os\n",
    "import sys\n",
    "module_path = os.path.abspath(os.path.join('..'))\n",
    "if module_path not in sys.path:\n",
    "    sys.path.append(module_path)"
   ]
  },
  {
   "cell_type": "code",
   "execution_count": 10,
   "id": "d02a66d5-d422-4e90-9496-63b12dee35d8",
   "metadata": {},
   "outputs": [],
   "source": [
    "from sns_toolbox.design.neurons import NonSpikingNeuronWithGatedChannels, NonSpikingNeuron\n",
    "from sns_toolbox.design.connections import NonSpikingSynapse\n",
    "from sns_toolbox.design.networks import Network\n",
    "\n",
    "from sns_toolbox.simulate.backends import SNS_Numpy\n",
    "\n",
    "import numpy as np\n",
    "import matplotlib.pyplot as plt"
   ]
  },
  {
   "cell_type": "code",
   "execution_count": 3,
   "id": "62a0f779-de46-4809-bbb5-be5adf32c4fc",
   "metadata": {},
   "outputs": [],
   "source": [
    "def zinf(U, Kz, Sz, Ez):\n",
    "    return 1/(1+Kz*np.exp(Sz*(U-Ez)))\n",
    "\n",
    "def tauz(U, tauzmax, Kz, Sz, Ez):\n",
    "    return tauzmax*zinf(U, Kz, Sz, Ez)*np.sqrt(Kz*np.exp(Sz*(U-Ez)))"
   ]
  },
  {
   "cell_type": "code",
   "execution_count": 7,
   "id": "6709cb55-24d8-446c-89d0-7ca5da7343ef",
   "metadata": {},
   "outputs": [
    {
     "name": "stdout",
     "output_type": "stream",
     "text": [
      "0.5330042313521143\n"
     ]
    },
    {
     "data": {
      "text/plain": [
       "Text(0.5, 1.0, 'Nick Gate Tau')"
      ]
     },
     "execution_count": 7,
     "metadata": {},
     "output_type": "execute_result"
    },
    {
     "data": {
      "image/png": "[encoded data removed]",
      "text/plain": [
       "<Figure size 432x288 with 1 Axes>"
      ]
     },
     "metadata": {
      "needs_background": "light"
     },
     "output_type": "display_data"
    },
    {
     "data": {
      "image/png": "[encoded data removed]",
      "text/plain": [
       "<Figure size 432x288 with 1 Axes>"
      ]
     },
     "metadata": {
      "needs_background": "light"
     },
     "output_type": "display_data"
    }
   ],
   "source": [
    "U = np.linspace(0,20)\n",
    "\n",
    "Kh = 0.5\n",
    "Sh = -0.046\n",
    "Eh = 0\n",
    "tauhmax = 300\n",
    "\n",
    "Km = 1\n",
    "Sm = 0.046\n",
    "Em = 20\n",
    "\n",
    "Gna = 1*20/(zinf(20,Kh,Sh,Eh)*zinf(20,Km,Sm,Em)*(110-20))\n",
    "print(Gna)\n",
    "\n",
    "plt.figure()\n",
    "plt.plot(U,zinf(U, Kh, Sh, Eh),label='h')\n",
    "plt.plot(U,zinf(U, Km, Sm, Em),label='m')\n",
    "plt.legend()\n",
    "plt.title('Nick Gate Zinf')\n",
    "\n",
    "plt.figure()\n",
    "plt.plot(U, tauz(U, tauhmax, Kh, Sh, Eh), label='h')\n",
    "plt.title('Nick Gate Tau')"
   ]
  },
  {
   "cell_type": "code",
   "execution_count": 14,
   "id": "0fa7860e-bb50-492a-b739-44c8698e4bdb",
   "metadata": {},
   "outputs": [
    {
     "data": {
      "image/svg+xml": [
       "<?xml version=\"1.0\" encoding=\"UTF-8\" standalone=\"no\"?>\n",
       "<!DOCTYPE svg PUBLIC \"-//W3C//DTD SVG 1.1//EN\"\n",
       " \"http://www.w3.org/Graphics/SVG/1.1/DTD/svg11.dtd\">\n",
       "<!-- Generated by graphviz version 2.43.0 (0)\n",
       " -->\n",
       "<!-- Title: %3 Pages: 1 -->\n",
       "<svg width=\"116pt\" height=\"188pt\"\n",
       " viewBox=\"0.00 0.00 115.65 188.00\" xmlns=\"http://www.w3.org/2000/svg\" xmlns:xlink=\"http://www.w3.org/1999/xlink\">\n",
       "<g id=\"graph0\" class=\"graph\" transform=\"scale(1 1) rotate(0) translate(4 184)\">\n",
       "<title>%3</title>\n",
       "<polygon fill=\"white\" stroke=\"transparent\" points=\"-4,4 -4,-184 111.65,-184 111.65,4 -4,4\"/>\n",
       "<!-- 0 -->\n",
       "<g id=\"node1\" class=\"node\">\n",
       "<title>0</title>\n",
       "<ellipse fill=\"orange\" stroke=\"black\" cx=\"53.83\" cy=\"-90\" rx=\"27\" ry=\"18\"/>\n",
       "<text text-anchor=\"middle\" x=\"53.83\" y=\"-86.3\" font-family=\"Times,serif\" font-size=\"14.00\">HC</text>\n",
       "</g>\n",
       "<!-- Out0 -->\n",
       "<g id=\"node3\" class=\"node\">\n",
       "<title>Out0</title>\n",
       "<polygon fill=\"white\" stroke=\"black\" points=\"107.48,-23.56 53.83,-36 0.17,-23.56 0.22,-3.44 107.43,-3.44 107.48,-23.56\"/>\n",
       "<text text-anchor=\"middle\" x=\"53.83\" y=\"-14.3\" font-family=\"Times,serif\" font-size=\"14.00\">Output</text>\n",
       "</g>\n",
       "<!-- 0&#45;&gt;Out0 -->\n",
       "<g id=\"edge2\" class=\"edge\">\n",
       "<title>0&#45;&gt;Out0</title>\n",
       "<path fill=\"none\" stroke=\"black\" d=\"M53.83,-71.7C53.83,-63.98 53.83,-54.71 53.83,-46.11\"/>\n",
       "<polygon fill=\"black\" stroke=\"black\" points=\"57.33,-46.1 53.83,-36.1 50.33,-46.1 57.33,-46.1\"/>\n",
       "</g>\n",
       "<!-- In0 -->\n",
       "<g id=\"node2\" class=\"node\">\n",
       "<title>In0</title>\n",
       "<polygon fill=\"white\" stroke=\"black\" points=\"9.45,-156.44 53.83,-144 98.2,-156.44 98.16,-176.56 9.5,-176.56 9.45,-156.44\"/>\n",
       "<text text-anchor=\"middle\" x=\"53.83\" y=\"-158.3\" font-family=\"Times,serif\" font-size=\"14.00\">Input</text>\n",
       "</g>\n",
       "<!-- In0&#45;&gt;0 -->\n",
       "<g id=\"edge1\" class=\"edge\">\n",
       "<title>In0&#45;&gt;0</title>\n",
       "<path fill=\"none\" stroke=\"black\" d=\"M53.83,-143.7C53.83,-135.98 53.83,-126.71 53.83,-118.11\"/>\n",
       "<polygon fill=\"black\" stroke=\"black\" points=\"57.33,-118.1 53.83,-108.1 50.33,-118.1 57.33,-118.1\"/>\n",
       "</g>\n",
       "</g>\n",
       "</svg>\n"
      ],
      "text/plain": [
       "<graphviz.dot.Digraph at 0x7f4b89a9deb0>"
      ]
     },
     "execution_count": 14,
     "metadata": {},
     "output_type": "execute_result"
    }
   ],
   "source": [
    "neuron_cpg = NonSpikingNeuronWithGatedChannels(g_ion=[Gna],name='HC',color='orange')\n",
    "#neuron_inter = NonSpikingNeuron(name='Inter',color='blue')\n",
    "\n",
    "#synapse_hc_in = NonSpikingSynapse(max_conductance=0.118, relative_reversal_potential=300)\n",
    "#synapse_in_hc = NonSpikingSynapse(max_conductance=1.041, relative_reversal_potential=-100)\n",
    "\n",
    "net = Network()\n",
    "net.add_neuron(neuron_cpg)\n",
    "net.add_input(0)\n",
    "net.add_output(0)\n",
    "#net.add_neuron(neuron_cpg)\n",
    "#net.add_neuron(neuron_inter)\n",
    "#net.add_neuron(neuron_inter)\n",
    "\n",
    "#net.add_connection(synapse_hc_in,0,2)\n",
    "#net.add_connection(synapse_in_hc,2,1)\n",
    "#net.add_connection(synapse_hc_in,1,3)\n",
    "#net.add_connection(synapse_in_hc,3,0)\n",
    "\n",
    "net.graph"
   ]
  },
  {
   "cell_type": "code",
   "execution_count": 18,
   "id": "979a23d6-6bfc-4931-8059-243644809157",
   "metadata": {},
   "outputs": [
    {
     "data": {
      "image/png": "[encoded data removed]",
      "text/plain": [
       "<Figure size 432x288 with 1 Axes>"
      ]
     },
     "metadata": {
      "needs_background": "light"
     },
     "output_type": "display_data"
    }
   ],
   "source": [
    "dt = 0.01\n",
    "t_max = 100\n",
    "\n",
    "t = np.arange(0, t_max, dt)\n",
    "\n",
    "model = SNS_Numpy(net,dt=dt)\n",
    "inputs = np.array([20.0])\n",
    "data = np.zeros([len(t), net.get_num_outputs_actual()])\n",
    "\n",
    "for i in range(len(t)):\n",
    "    if i <3:\n",
    "        data[i] = model.forward(np.array([1.0]))\n",
    "    else:\n",
    "        data[i] = model.forward(np.array([0.0]))\n",
    "data = data.transpose()\n",
    "\n",
    "plt.figure()\n",
    "plt.plot(t,data[:][0])\n",
    "\n",
    "plt.show()"
   ]
  },
  {
   "cell_type": "code",
   "execution_count": null,
   "id": "901e864c-9709-40fa-8419-eadc9d6bece4",
   "metadata": {},
   "outputs": [],
   "source": []
  }
 ],
 "metadata": {
  "kernelspec": {
   "display_name": "Python 3 (ipykernel)",
   "language": "python",
   "name": "python3"
  },
  "language_info": {
   "codemirror_mode": {
    "name": "ipython",
    "version": 3
   },
   "file_extension": ".py",
   "mimetype": "text/x-python",
   "name": "python",
   "nbconvert_exporter": "python",
   "pygments_lexer": "ipython3",
   "version": "3.8.10"
  }
 },
 "nbformat": 4,
 "nbformat_minor": 5
}
