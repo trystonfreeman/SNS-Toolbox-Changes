{
 "cells": [
  {
   "cell_type": "markdown",
   "id": "554f230d-85a4-4504-832f-9dab3ac4f264",
   "metadata": {},
   "source": [
    "# Tutorial 5: Spiking Networks with Synaptic Transmission Delay"
   ]
  },
  {
   "cell_type": "code",
   "execution_count": 1,
   "id": "79d8663b-14cc-4e45-a39f-1d50733168df",
   "metadata": {},
   "outputs": [
    {
     "data": {
      "image/png": "[encoded data removed]",
      "text/plain": [
       "<Figure size 432x288 with 2 Axes>"
      ]
     },
     "metadata": {
      "needs_background": "light"
     },
     "output_type": "display_data"
    }
   ],
   "source": [
    "# Add the library to the path\n",
    "# If jupyter cannot find SNS-Toolbox\n",
    "import os\n",
    "import sys\n",
    "module_path = os.path.abspath(os.path.join('..'))\n",
    "if module_path not in sys.path:\n",
    "    sys.path.append(module_path)\n",
    "    \n",
    "import numpy as np\n",
    "import matplotlib.pyplot as plt\n",
    "\n",
    "from sns_toolbox.design.networks import Network\n",
    "from sns_toolbox.design.neurons import SpikingNeuron\n",
    "from sns_toolbox.design.connections import SpikingSynapse\n",
    "\n",
    "from sns_toolbox.simulate.backends import SNS_Numpy\n",
    "from sns_toolbox.simulate.simulate_utilities import spike_raster_plot\n",
    "\n",
    "\"\"\"Define our types\"\"\"\n",
    "neuron_type = SpikingNeuron()\n",
    "synapse_type_d0 = SpikingSynapse(transmission_delay=0)   # Transmission delay of 0 dt\n",
    "synapse_type_d5 = SpikingSynapse(transmission_delay=5)   # Transmission delay of 5 dt\n",
    "synapse_type_d10 = SpikingSynapse(transmission_delay=10)   # Transmission delay of 10 dt\n",
    "synapse_type_d20 = SpikingSynapse(transmission_delay=20)   # Transmission delay of 20 dt\n",
    "\n",
    "\"\"\"Create our network\"\"\"\n",
    "net = Network(name='Tutorial 5 Network')\n",
    "\n",
    "net.add_neuron(neuron_type, name='Source', color='blue')\n",
    "net.add_neuron(neuron_type, name='D0', color='orange')\n",
    "net.add_neuron(neuron_type, name='D5', color='green')\n",
    "net.add_neuron(neuron_type, name='D10', color='red')\n",
    "net.add_neuron(neuron_type, name='D20', color='purple')\n",
    "\n",
    "net.add_connection(synapse_type_d0, 'Source', 'D0')\n",
    "net.add_connection(synapse_type_d5, 'Source', 'D5')\n",
    "net.add_connection(synapse_type_d10, 'Source', 'D10')\n",
    "net.add_connection(synapse_type_d20, 'Source', 'D20')\n",
    "\n",
    "net.add_output('Source', name='OSS', spiking=True)\n",
    "net.add_output('D0', name='O0S', spiking=True)\n",
    "net.add_output('D5', name='O5S', spiking=True)\n",
    "net.add_output('D10', name='O10S', spiking=True)\n",
    "net.add_output('D20', name='O20S', spiking=True)\n",
    "\n",
    "net.add_input('Source')\n",
    "\n",
    "# net.render_graph(view=True)\n",
    "\n",
    "\"\"\"Simulate the network\"\"\"\n",
    "dt = 0.01\n",
    "t_max = 10\n",
    "\n",
    "t = np.arange(0, t_max, dt)\n",
    "inputs = np.zeros([len(t), net.get_num_inputs()])          # getNumInputs() gets the number of input nodes in a network\n",
    "inputs[0:100] = 20.0\n",
    "data = np.zeros([len(t), net.get_num_outputs_actual()])    # getNumOutputsActual gets the number of accessible output\n",
    "                                                            # nodes in a network (since this net has populations, each\n",
    "                                                            # population has n output nodes)\n",
    "# Compile to numpy\n",
    "model = SNS_Numpy(net, dt=dt, debug=False)\n",
    "\n",
    "# Run for all steps\n",
    "for i in range(len(t)):\n",
    "    data[i,:] = model.forward(inputs[i,:])\n",
    "data = data.transpose()\n",
    "\n",
    "\"\"\"Plotting the results\"\"\"\n",
    "plt.figure()\n",
    "plt.subplot(2,1,1)\n",
    "plt.plot(t,inputs,color='black')\n",
    "plt.title('Input Stimulus')\n",
    "plt.ylabel('Current (nA)')\n",
    "plt.subplot(2,1,2)\n",
    "spike_raster_plot(t,data[:][:],colors=['blue','orange','green','red','purple'])\n",
    "plt.title('Network Spike Times')\n",
    "plt.ylabel('Neuron')\n",
    "plt.xlabel('t (ms)')\n",
    "\n",
    "\n",
    "plt.show()"
   ]
  },
  {
   "cell_type": "code",
   "execution_count": null,
   "id": "3ce16478-95ef-4a3d-b947-2ee495d85de8",
   "metadata": {},
   "outputs": [],
   "source": []
  }
 ],
 "metadata": {
  "kernelspec": {
   "display_name": "Python 3 (ipykernel)",
   "language": "python",
   "name": "python3"
  },
  "language_info": {
   "codemirror_mode": {
    "name": "ipython",
    "version": 3
   },
   "file_extension": ".py",
   "mimetype": "text/x-python",
   "name": "python",
   "nbconvert_exporter": "python",
   "pygments_lexer": "ipython3",
   "version": "3.8.10"
  }
 },
 "nbformat": 4,
 "nbformat_minor": 5
}
